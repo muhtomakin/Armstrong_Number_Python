{
 "cells": [
  {
   "cell_type": "code",
   "execution_count": null,
   "id": "ed2f9eea",
   "metadata": {},
   "outputs": [],
   "source": [
    "#Find out a given number is an \"Armstrong 'Number\"\n",
    "\n",
    "def armstrongNumber(number):\n",
    "    for i in number:\n",
    "        if i.isdigit():\n",
    "            return print(\"{} is an Armstrong number.\".format(number)) \n",
    "        return print(\"It is an invalid entry. Don't use non-numeric, float, or negative values!\")\n",
    "\n",
    "number = input(\"Please enter a number: \")\n",
    "armstrongNumber(number)"
   ]
  }
 ],
 "metadata": {
  "kernelspec": {
   "display_name": "Python 3",
   "language": "python",
   "name": "python3"
  },
  "language_info": {
   "codemirror_mode": {
    "name": "ipython",
    "version": 3
   },
   "file_extension": ".py",
   "mimetype": "text/x-python",
   "name": "python",
   "nbconvert_exporter": "python",
   "pygments_lexer": "ipython3",
   "version": "3.8.8"
  }
 },
 "nbformat": 4,
 "nbformat_minor": 5
}
